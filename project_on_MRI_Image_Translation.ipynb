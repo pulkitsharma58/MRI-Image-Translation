{
  "cells": [
    {
      "cell_type": "markdown",
      "metadata": {
        "id": "3Qo92d4-Tfko"
      },
      "source": [
        "# In this project, you will acting as a machine learning engineer or researcher at a healthcare company specializing in medical imaging applications. The team in which you are working want to perform the analysis of MRIs (Magnetic Resonance Images) of brain. An MRI system can create multiple types of images at one go but not all types of images are aquired in every single time,in every single scan. In short, MRI system gives us two types of images as output for every patient. One is called T1 weighted images and other one is called T2 weighted images. But in many scenarios, it can happen with people that they may lost one of those images given to them as their test report but the diagnostician requires both types of images to diagnose that what is going on with the patient inside his brain.\n",
        "\n",
        "# In this project, we are assuming that patients might be having T1 weighted images with them in their test report images but they may lost the T2 weighted images. So, your task is to generate synthetic artificial T2 weighted images for them, given their respective T1 weighted images so that their test reports will be having both kind of images and hence it will be easier for the diagnostician to diagnose their disease. You will be using deep learning for this.\n",
        "\n"
      ]
    },
    {
      "cell_type": "code",
      "execution_count": null,
      "metadata": {
        "colab": {
          "base_uri": "https://localhost:8080/"
        },
        "id": "MjiwmUf1vZWM",
        "outputId": "7439d619-683c-4982-83d5-1fe14327c3d3"
      },
      "outputs": [
        {
          "output_type": "stream",
          "name": "stdout",
          "text": [
            "Looking in indexes: https://pypi.org/simple, https://us-python.pkg.dev/colab-wheels/public/simple/\n",
            "Requirement already satisfied: nibabel in /usr/local/lib/python3.10/dist-packages (3.0.2)\n",
            "Requirement already satisfied: numpy>=1.12 in /usr/local/lib/python3.10/dist-packages (from nibabel) (1.22.4)\n"
          ]
        }
      ],
      "source": [
        "! pip install nibabel"
      ]
    },
    {
      "cell_type": "markdown",
      "metadata": {
        "id": "XnQnNKHUY8At"
      },
      "source": [
        "# Make sure that nibabel library is installed. This library is used to read different types of images in medical domain in python. To know more about Nibabel library, goto the following link:\n",
        "\n",
        "# https://nipy.org/nibabel/"
      ]
    },
    {
      "cell_type": "code",
      "source": [
        "from google.colab import drive\n",
        "drive.mount('/content/drive')"
      ],
      "metadata": {
        "colab": {
          "base_uri": "https://localhost:8080/"
        },
        "id": "e5CmqIct-rml",
        "outputId": "d9d06855-ba6d-4e7a-f997-072063b25f17"
      },
      "execution_count": null,
      "outputs": [
        {
          "output_type": "stream",
          "name": "stdout",
          "text": [
            "Mounted at /content/drive\n"
          ]
        }
      ]
    },
    {
      "cell_type": "code",
      "source": [
        "!cp /content/drive/MyDrive/T1_and_T2_weighted_training_images.zip ./"
      ],
      "metadata": {
        "id": "amXFStVnkYtZ"
      },
      "execution_count": null,
      "outputs": []
    },
    {
      "cell_type": "markdown",
      "metadata": {
        "id": "-Cs2Sh_zZgp7"
      },
      "source": [
        "# Make sure that you have already navigated to google drive because you will be unzipping lot of biomemdical images in your google drive. You can download the data from the following link:\n",
        "\n",
        "# https://drive.google.com/file/d/1DjEwIGOIHzGJ8_VWNiZMxxIHSHVeBN0s/view?usp=sharing"
      ]
    },
    {
      "cell_type": "code",
      "execution_count": null,
      "metadata": {
        "colab": {
          "base_uri": "https://localhost:8080/"
        },
        "id": "HeTsgvcCvohP",
        "outputId": "6fc28ffa-16ee-459a-824a-4cb6a2d30097"
      },
      "outputs": [
        {
          "output_type": "stream",
          "name": "stdout",
          "text": [
            "Archive:  /content/T1_and_T2_weighted_training_images.zip\n",
            "   creating: T1_and_T2_weighted_training_images/\n",
            "   creating: T1_and_T2_weighted_training_images/t1/\n",
            " extracting: T1_and_T2_weighted_training_images/t1/IXI102-HH-1416-T1_fcm.nii.gz  \n",
            " extracting: T1_and_T2_weighted_training_images/t1/IXI104-HH-1450-T1_fcm.nii.gz  \n",
            " extracting: T1_and_T2_weighted_training_images/t1/IXI105-HH-1471-T1_fcm.nii.gz  \n",
            " extracting: T1_and_T2_weighted_training_images/t1/IXI126-HH-1437-T1_fcm.nii.gz  \n",
            " extracting: T1_and_T2_weighted_training_images/t1/IXI127-HH-1451-T1_fcm.nii.gz  \n",
            " extracting: T1_and_T2_weighted_training_images/t1/IXI128-HH-1470-T1_fcm.nii.gz  \n",
            " extracting: T1_and_T2_weighted_training_images/t1/IXI130-HH-1528-T1_fcm.nii.gz  \n",
            " extracting: T1_and_T2_weighted_training_images/t1/IXI131-HH-1527-T1_fcm.nii.gz  \n",
            " extracting: T1_and_T2_weighted_training_images/t1/IXI132-HH-1415-T1_fcm.nii.gz  \n",
            " extracting: T1_and_T2_weighted_training_images/t1/IXI136-HH-1452-T1_fcm.nii.gz  \n",
            " extracting: T1_and_T2_weighted_training_images/t1/IXI137-HH-1472-T1_fcm.nii.gz  \n",
            " extracting: T1_and_T2_weighted_training_images/t1/IXI146-HH-1389-T1_fcm.nii.gz  \n",
            " extracting: T1_and_T2_weighted_training_images/t1/IXI148-HH-1453-T1_fcm.nii.gz  \n",
            " extracting: T1_and_T2_weighted_training_images/t1/IXI150-HH-1550-T1_fcm.nii.gz  \n",
            " extracting: T1_and_T2_weighted_training_images/t1/IXI159-HH-1549-T1_fcm.nii.gz  \n",
            " extracting: T1_and_T2_weighted_training_images/t1/IXI160-HH-1637-T1_fcm.nii.gz  \n",
            " extracting: T1_and_T2_weighted_training_images/t1/IXI161-HH-2533-T1_fcm.nii.gz  \n",
            " extracting: T1_and_T2_weighted_training_images/t1/IXI162-HH-1548-T1_fcm.nii.gz  \n",
            " extracting: T1_and_T2_weighted_training_images/t1/IXI163-HH-1621-T1_fcm.nii.gz  \n",
            " extracting: T1_and_T2_weighted_training_images/t1/IXI165-HH-1589-T1_fcm.nii.gz  \n",
            " extracting: T1_and_T2_weighted_training_images/t1/IXI167-HH-1569-T1_fcm.nii.gz  \n",
            " extracting: T1_and_T2_weighted_training_images/t1/IXI168-HH-1607-T1_fcm.nii.gz  \n",
            " extracting: T1_and_T2_weighted_training_images/t1/IXI173-HH-1590-T1_fcm.nii.gz  \n",
            " extracting: T1_and_T2_weighted_training_images/t1/IXI174-HH-1571-T1_fcm.nii.gz  \n",
            " extracting: T1_and_T2_weighted_training_images/t1/IXI175-HH-1570-T1_fcm.nii.gz  \n",
            " extracting: T1_and_T2_weighted_training_images/t1/IXI176-HH-1604-T1_fcm.nii.gz  \n",
            " extracting: T1_and_T2_weighted_training_images/t1/IXI180-HH-1605-T1_fcm.nii.gz  \n",
            " extracting: T1_and_T2_weighted_training_images/t1/IXI195-HH-1620-T1_fcm.nii.gz  \n",
            "   creating: T1_and_T2_weighted_training_images/t2/\n",
            "  inflating: T1_and_T2_weighted_training_images/t2/IXI102-HH-1416-T2_reg_fcm.nii.gz  \n",
            "  inflating: T1_and_T2_weighted_training_images/t2/IXI104-HH-1450-T2_reg_fcm.nii.gz  \n",
            "  inflating: T1_and_T2_weighted_training_images/t2/IXI105-HH-1471-T2_reg_fcm.nii.gz  \n",
            "  inflating: T1_and_T2_weighted_training_images/t2/IXI126-HH-1437-T2_reg_fcm.nii.gz  \n",
            "  inflating: T1_and_T2_weighted_training_images/t2/IXI127-HH-1451-T2_reg_fcm.nii.gz  \n",
            " extracting: T1_and_T2_weighted_training_images/t2/IXI128-HH-1470-T2_reg_fcm.nii.gz  \n",
            "  inflating: T1_and_T2_weighted_training_images/t2/IXI130-HH-1528-T2_reg_fcm.nii.gz  \n",
            "  inflating: T1_and_T2_weighted_training_images/t2/IXI131-HH-1527-T2_reg_fcm.nii.gz  \n",
            " extracting: T1_and_T2_weighted_training_images/t2/IXI132-HH-1415-T2_reg_fcm.nii.gz  \n",
            " extracting: T1_and_T2_weighted_training_images/t2/IXI136-HH-1452-T2_reg_fcm.nii.gz  \n",
            " extracting: T1_and_T2_weighted_training_images/t2/IXI137-HH-1472-T2_reg_fcm.nii.gz  \n",
            " extracting: T1_and_T2_weighted_training_images/t2/IXI146-HH-1389-T2_reg_fcm.nii.gz  \n",
            " extracting: T1_and_T2_weighted_training_images/t2/IXI148-HH-1453-T2_reg_fcm.nii.gz  \n",
            "  inflating: T1_and_T2_weighted_training_images/t2/IXI150-HH-1550-T2_reg_fcm.nii.gz  \n",
            "  inflating: T1_and_T2_weighted_training_images/t2/IXI159-HH-1549-T2_reg_fcm.nii.gz  \n",
            "  inflating: T1_and_T2_weighted_training_images/t2/IXI160-HH-1637-T2_reg_fcm.nii.gz  \n",
            " extracting: T1_and_T2_weighted_training_images/t2/IXI161-HH-2533-T2_reg_fcm.nii.gz  \n",
            " extracting: T1_and_T2_weighted_training_images/t2/IXI162-HH-1548-T2_reg_fcm.nii.gz  \n",
            " extracting: T1_and_T2_weighted_training_images/t2/IXI163-HH-1621-T2_reg_fcm.nii.gz  \n",
            "  inflating: T1_and_T2_weighted_training_images/t2/IXI165-HH-1589-T2_reg_fcm.nii.gz  \n",
            "  inflating: T1_and_T2_weighted_training_images/t2/IXI167-HH-1569-T2_reg_fcm.nii.gz  \n",
            "  inflating: T1_and_T2_weighted_training_images/t2/IXI168-HH-1607-T2_reg_fcm.nii.gz  \n",
            "  inflating: T1_and_T2_weighted_training_images/t2/IXI173-HH-1590-T2_reg_fcm.nii.gz  \n",
            "  inflating: T1_and_T2_weighted_training_images/t2/IXI174-HH-1571-T2_reg_fcm.nii.gz  \n",
            " extracting: T1_and_T2_weighted_training_images/t2/IXI175-HH-1570-T2_reg_fcm.nii.gz  \n",
            " extracting: T1_and_T2_weighted_training_images/t2/IXI176-HH-1604-T2_reg_fcm.nii.gz  \n",
            "  inflating: T1_and_T2_weighted_training_images/t2/IXI180-HH-1605-T2_reg_fcm.nii.gz  \n",
            " extracting: T1_and_T2_weighted_training_images/t2/IXI195-HH-1620-T2_reg_fcm.nii.gz  \n"
          ]
        }
      ],
      "source": [
        "! unzip /content/T1_and_T2_weighted_training_images.zip"
      ]
    },
    {
      "cell_type": "markdown",
      "metadata": {
        "id": "BmApbFerZxcZ"
      },
      "source": [
        "# A medical image is read using nibabel library as shown below"
      ]
    },
    {
      "cell_type": "code",
      "execution_count": null,
      "metadata": {
        "id": "TOanJ9ir8Ahc"
      },
      "outputs": [],
      "source": [
        "import nibabel as nib\n",
        "patient_t1_image =  nib.load(\"/content/drive/MyDrive/Colab_Notebooks/T1_and_T2_weighted_training_images/t1/IXI102-HH-1416-T1_fcm.nii.gz\")\n",
        "patient_t1_image_data = patient_t1_image.get_fdata()"
      ]
    },
    {
      "cell_type": "code",
      "execution_count": null,
      "metadata": {
        "colab": {
          "base_uri": "https://localhost:8080/"
        },
        "id": "QSDaqD-k8717",
        "outputId": "77083cc3-ed94-4fee-e162-daa717e47d25"
      },
      "outputs": [
        {
          "output_type": "execute_result",
          "data": {
            "text/plain": [
              "(120, 120, 90)"
            ]
          },
          "metadata": {},
          "execution_count": 10
        }
      ],
      "source": [
        "patient_t1_image_data.shape"
      ]
    },
    {
      "cell_type": "markdown",
      "metadata": {
        "id": "x0MRTwsUZ4iz"
      },
      "source": [
        "# As it can be noticed that MR Images are far different than the usual colored or grayscale images. Colored images have three channels and grayscale images have only one channel whereas it can be clearly seen that the MR images here have 90 channels !!! Thats crazy. Therefore, one thing is for sure that definitely these images will comsume lot of memory and computation time when passed though a Convolutional Neural Network because their size (Height and Width) is also big as well as their number of channels are also a lot."
      ]
    },
    {
      "cell_type": "code",
      "execution_count": null,
      "metadata": {
        "id": "Polmro9u9AJc"
      },
      "outputs": [],
      "source": [
        "patient_t2_image = nib.load(\"/content/T1_and_T2_weighted_training_images/t2/IXI102-HH-1416-T2_reg_fcm.nii.gz\")\n",
        "patient_t2_image_data = patient_t2_image.get_fdata()"
      ]
    },
    {
      "cell_type": "code",
      "source": [
        "patient_t2_image_data.shape"
      ],
      "metadata": {
        "colab": {
          "base_uri": "https://localhost:8080/"
        },
        "id": "WEODS9ynDJes",
        "outputId": "d5220fbf-98ad-422b-a722-0912d1e7320a"
      },
      "execution_count": null,
      "outputs": [
        {
          "output_type": "execute_result",
          "data": {
            "text/plain": [
              "(120, 120, 90)"
            ]
          },
          "metadata": {},
          "execution_count": 12
        }
      ]
    },
    {
      "cell_type": "markdown",
      "metadata": {
        "id": "rFLtvDUua-Qk"
      },
      "source": [
        "# Previously, T1 eighted image of one of the patients is read using nibabel library and here wera are reading T2 weighted image of the same patient using nibabel library."
      ]
    },
    {
      "cell_type": "markdown",
      "metadata": {
        "id": "Ar1zDzDybYb4"
      },
      "source": [
        "# Now, let's try to see that what is inside these two types of images for a single patient. But, all our eyes can see are colored images and we know that colored images have maximum 3 channels (R,G,B) or our eyes can see a grayscale (Black and White) image so it means that our eyes can see images which have maximum 3 channels but the medicalimages we have of brain have 90 channels !!! So, how do we visualize them ??  Well, what we are goiong to do is that we are going to randomly select 3 consecutive channels out of 90 channels and going to plot and see that what we can observe."
      ]
    },
    {
      "cell_type": "code",
      "execution_count": null,
      "metadata": {
        "id": "n1ioexIx_Auy"
      },
      "outputs": [],
      "source": [
        "import matplotlib.pyplot as plt"
      ]
    },
    {
      "cell_type": "code",
      "execution_count": null,
      "metadata": {
        "colab": {
          "base_uri": "https://localhost:8080/",
          "height": 582
        },
        "id": "HI4Xt2S4_D_0",
        "outputId": "5730b3d0-d26a-4b68-c343-40750837a729"
      },
      "outputs": [
        {
          "output_type": "stream",
          "name": "stderr",
          "text": [
            "WARNING:matplotlib.image:Clipping input data to the valid range for imshow with RGB data ([0..1] for floats or [0..255] for integers).\n"
          ]
        },
        {
          "output_type": "execute_result",
          "data": {
            "text/plain": [
              "<matplotlib.image.AxesImage at 0x7f67182ed810>"
            ]
          },
          "metadata": {},
          "execution_count": 14
        },
        {
          "output_type": "display_data",
          "data": {
            "text/plain": [
              "<Figure size 600x600 with 1 Axes>"
            ],
            "image/png": "[encoded data removed]"
          },
          "metadata": {}
        }
      ],
      "source": [
        "plt.figure(figsize=(6,6))\n",
        "plt.imshow(patient_t1_image_data[:,:,44:47])"
      ]
    },
    {
      "cell_type": "markdown",
      "metadata": {
        "id": "n3enFuxfccLq"
      },
      "source": [
        "# Above is the plot of randomly selected 3 channels of T1 weighted images and below is the plot of same 3 consecutive selected channels of T2 weighted image as T1 weighted image."
      ]
    },
    {
      "cell_type": "code",
      "execution_count": null,
      "metadata": {
        "colab": {
          "base_uri": "https://localhost:8080/",
          "height": 582
        },
        "id": "rUXNw2gR_XgO",
        "outputId": "8dee34fc-1bae-498e-fdf1-f4a8f52270ce"
      },
      "outputs": [
        {
          "output_type": "stream",
          "name": "stderr",
          "text": [
            "WARNING:matplotlib.image:Clipping input data to the valid range for imshow with RGB data ([0..1] for floats or [0..255] for integers).\n"
          ]
        },
        {
          "output_type": "execute_result",
          "data": {
            "text/plain": [
              "<matplotlib.image.AxesImage at 0x7f66fdf52c80>"
            ]
          },
          "metadata": {},
          "execution_count": 15
        },
        {
          "output_type": "display_data",
          "data": {
            "text/plain": [
              "<Figure size 600x600 with 1 Axes>"
            ],
            "image/png": "[encoded data removed]"
          },
          "metadata": {}
        }
      ],
      "source": [
        "plt.figure(figsize=(6,6))\n",
        "plt.imshow(patient_t2_image_data[:,:,44:47])"
      ]
    },
    {
      "cell_type": "markdown",
      "metadata": {
        "id": "q0iOIs6Xc8Jr"
      },
      "source": [
        "# Now, the first thing which we have to do is to segregate our data into 3 parts : Training, Cross Validation and Testing. We already have all the images in a training folder, this means that we have to create two more folders for Cross Validation and Testing data and move some fixed fraction (Train: 70 %, Cross Validation: 20 % and Testing: 10 %) of both T1 and T2 weighted images to the respective folders."
      ]
    },
    {
      "cell_type": "code",
      "execution_count": null,
      "metadata": {
        "id": "aGVb6WGU9vFp"
      },
      "outputs": [],
      "source": [
        "import os"
      ]
    },
    {
      "cell_type": "code",
      "execution_count": null,
      "metadata": {
        "id": "7b7NU2Vj-pE3"
      },
      "outputs": [],
      "source": [
        "import shutil"
      ]
    },
    {
      "cell_type": "code",
      "source": [
        "!pip install patchify"
      ],
      "metadata": {
        "colab": {
          "base_uri": "https://localhost:8080/"
        },
        "id": "VgwrTiPDCTT4",
        "outputId": "78f6613a-da54-42bd-bcfe-58b95b1b714f"
      },
      "execution_count": null,
      "outputs": [
        {
          "output_type": "stream",
          "name": "stdout",
          "text": [
            "Collecting patchify\n",
            "  Downloading patchify-0.2.3-py3-none-any.whl (6.6 kB)\n",
            "Requirement already satisfied: numpy<2,>=1 in /usr/local/lib/python3.10/dist-packages (from patchify) (1.22.4)\n",
            "Installing collected packages: patchify\n",
            "Successfully installed patchify-0.2.3\n"
          ]
        }
      ]
    },
    {
      "cell_type": "code",
      "execution_count": null,
      "metadata": {
        "id": "lRGvD9oFedy8"
      },
      "outputs": [],
      "source": [
        "from PIL import Image\n",
        "import numpy as np\n",
        "from patchify import patchify"
      ]
    },
    {
      "cell_type": "markdown",
      "metadata": {
        "id": "AQeA2SXaegyk"
      },
      "source": [
        "# Now that we have segregated our T1 and T2 weighted images into three respective categories, we have to now write the function for our custom data generator. Some important points to keep in mind while creauting our custom image data generator.\n",
        "\n",
        "# First of all, the training data is very less and in such kind of situation, if we are going to train a network to translate T1 to T2 weighted images then it will overfit because the number of parameters in a neural network will be lot more in comparison to the number of training images as well as their pixels. So, network will be more complex and hence for sure overfitting will happen.\n",
        "\n",
        "# So, we need to increase our training data. Now, we have to two ways to increase our training data, the first is to perform data rugmentation by rotating, horizontally shifting, vertically shifting both T1 and T2 weighted images.\n",
        "\n",
        "# The second thing which we should definitely do is to take random crops from our single image (both T1 and T2) of shape (120,120,90). But we need to fix on the size of the random crop which we are going to take from each image. And we will be feeding that into our CNN. But the question arrises is that why we need to perform random cropping of fixed size and insert it into a CNN, why not insert the whole image because we have to translate the whole image and not the part of it, right ? Well, it doesn't matters because uptimately the network is going to learn the parametrs in the same way as it will learn for the whole image but random cropping is going to be advantageous in two ways. First iof all our training data will increase because for each image in each epoch we can take a different random crop with a different set of consecutive channels as well as different set of pixels located in different locations and at the same time our cropped image will be smaller in size in comparison to the whole image and hence less memory will be consumed as well as less comutation time will be reuiqred and durig the inference time, we can always merge the copped portions to get the whole T2 translated image.\n",
        "\n",
        "# Therefore, you have to write a function for our custom data generator such that for every spoch, our custom data generator will perform the random crop on both T1 and T2 weighted images on the same spatial locations as well as same consecutive channels and return the batch of them so that we can feed that batch to the network."
      ]
    },
    {
      "cell_type": "code",
      "execution_count": null,
      "metadata": {
        "id": "moNXjq3FUaWw"
      },
      "outputs": [],
      "source": [
        "def data_generator(base_path,t1_images,t2_images,crop_size,batch_size=2):\n",
        "\n",
        "  num_images = len(t1_images)\n",
        "  t1_images = np.array(t1_images)\n",
        "  t2_images = np.array(t2_images)\n",
        "\n",
        "  crop_height, crop_width, crop_depth = crop_size\n",
        "\n",
        "  while True:\n",
        "\n",
        "    for offset in range(0,num_images,batch_size):\n",
        "\n",
        "      t1_batch_images = list(np.random.choice(t1_images,size=batch_size,replace=False))\n",
        "      t2_batch_images = list(np.random.choice(t2_images,size=batch_size,replace=False))\n",
        "\n",
        "      t1_images_path = os.path.join(base_path,\"t1\")\n",
        "      t2_images_path = os.path.join(base_path,\"t2\")\n",
        "\n",
        "\n",
        "      for t1_img,t2_img in zip(t1_batch_images,t2_batch_images):\n",
        "\n",
        "        t1_image = nib.load(os.path.join(t1_images_path,t1_img))\n",
        "        t2_image = nib.load(os.path.join(t2_images_path,t2_img))\n",
        "\n",
        "        t1_image_data = t1_image.get_fdata()\n",
        "        t2_image_data = t2_image.get_fdata()\n",
        "\n",
        "        t1_cropped_images_batch = patchify(image=t1_image_data,patch_size=(crop_height,crop_width,crop_depth),step=30)\n",
        "        t2_cropped_images_batch = patchify(image=t2_image_data,patch_size=(crop_height,crop_width,crop_depth),step=30)\n",
        "\n",
        "\n",
        "        t1_cropped_images_batch = t1_cropped_images_batch.reshape(t1_cropped_images_batch.shape[0]*t1_cropped_images_batch.shape[1]*t1_cropped_images_batch.shape[2],\n",
        "                                                                  t1_cropped_images_batch.shape[3],\n",
        "                                                                  t1_cropped_images_batch.shape[4],\n",
        "                                                                  t1_cropped_images_batch.shape[5])\n",
        "\n",
        "        t2_cropped_images_batch = t2_cropped_images_batch.reshape(t2_cropped_images_batch.shape[0]*t2_cropped_images_batch.shape[1]*t2_cropped_images_batch.shape[2],\n",
        "                                                                  t2_cropped_images_batch.shape[3],\n",
        "                                                                  t2_cropped_images_batch.shape[4],\n",
        "                                                                  t2_cropped_images_batch.shape[5])\n",
        "\n",
        "        yield np.array(t1_cropped_images_batch)[...,np.newaxis], np.array(t2_cropped_images_batch)[...,np.newaxis]"
      ]
    },
    {
      "cell_type": "code",
      "execution_count": null,
      "metadata": {
        "id": "ES-yGPTAJkTb"
      },
      "outputs": [],
      "source": [
        "from keras.layers import Conv3D, Conv3DTranspose, BatchNormalization, MaxPooling3D\n",
        "from keras.models import Sequential\n",
        "from keras.layers import Input, UpSampling3D, UpSampling2D\n",
        "from keras.layers import ReLU, Concatenate\n",
        "from keras.layers import Reshape\n",
        "import tensorflow as tf\n",
        "import keras\n",
        "from keras.models import Model"
      ]
    },
    {
      "cell_type": "markdown",
      "metadata": {
        "id": "iPTg4gT_i0HG"
      },
      "source": [
        "# Please download the research paper of U-net from the following link and follow the complete architecture and implement it inside the the below mentioned function:\n",
        "\n",
        "# https://arxiv.org/abs/1505.04597"
      ]
    },
    {
      "cell_type": "code",
      "execution_count": null,
      "metadata": {
        "id": "vr7hH8v6gVcI"
      },
      "outputs": [],
      "source": [
        "def create_regression_unet(input_image_shape):\n",
        "\n",
        "  regression_unet_input = Input(shape=input_image_shape)\n",
        "\n",
        "  regression_unet_first_block_down = Conv3D(filters=64,kernel_size=3,use_bias=False,padding=\"same\")(regression_unet_input)\n",
        "  regression_unet_first_block_down = BatchNormalization()(regression_unet_first_block_down)\n",
        "  regression_unet_first_block_down = ReLU()(regression_unet_first_block_down)\n",
        "\n",
        "  regression_unet_first_block_down = Conv3D(filters=64,kernel_size=3,use_bias=False,padding=\"same\")(regression_unet_first_block_down)\n",
        "  regression_unet_first_block_down = BatchNormalization()(regression_unet_first_block_down)\n",
        "  regression_unet_first_block_down = ReLU()(regression_unet_first_block_down)\n",
        "\n",
        "  maxpooled_first_block_down = MaxPooling3D()(regression_unet_first_block_down)\n",
        "\n",
        "  regression_unet_second_block_down = Conv3D(filters=128,kernel_size=3,use_bias=False,padding=\"same\")(maxpooled_first_block_down)\n",
        "  regression_unet_second_block_down = BatchNormalization()(regression_unet_second_block_down)\n",
        "  regression_unet_second_block_down = ReLU()(regression_unet_second_block_down)\n",
        "\n",
        "  regression_unet_second_block_down = Conv3D(filters=128,kernel_size=3,use_bias=False,padding=\"same\")(regression_unet_second_block_down)\n",
        "  regression_unet_second_block_down = BatchNormalization()(regression_unet_second_block_down)\n",
        "  regression_unet_second_block_down = ReLU()(regression_unet_second_block_down)\n",
        "\n",
        "  maxpooled_second_block_down = MaxPooling3D()(regression_unet_second_block_down)\n",
        "\n",
        "  regression_unet_third_block_down = Conv3D(filters=256,kernel_size=3,use_bias=False,padding=\"same\")(maxpooled_second_block_down)\n",
        "  regression_unet_third_block_down = BatchNormalization()(regression_unet_third_block_down)\n",
        "  regression_unet_third_block_down = ReLU()(regression_unet_third_block_down)\n",
        "\n",
        "  regression_unet_third_block_down = Conv3D(filters=256,kernel_size=3,use_bias=False,padding=\"same\")(regression_unet_third_block_down)\n",
        "  regression_unet_third_block_down = BatchNormalization()(regression_unet_third_block_down)\n",
        "  regression_unet_third_block_down = ReLU()(regression_unet_third_block_down)\n",
        "\n",
        "  maxpooled_third_block_down = MaxPooling3D()(regression_unet_third_block_down)\n",
        "\n",
        "  regression_unet_forth_block_down = Conv3D(filters=512,kernel_size=3,use_bias=False,padding=\"same\")(maxpooled_third_block_down)\n",
        "  regression_unet_forth_block_down = BatchNormalization()(regression_unet_forth_block_down)\n",
        "  regression_unet_forth_block_down = ReLU()(regression_unet_forth_block_down)\n",
        "\n",
        "  regression_unet_forth_block_down = Conv3D(filters=512,kernel_size=3,use_bias=False,padding=\"same\")(regression_unet_forth_block_down)\n",
        "  regression_unet_forth_block_down = BatchNormalization()(regression_unet_forth_block_down)\n",
        "  regression_unet_forth_block_down = ReLU()(regression_unet_forth_block_down)\n",
        "\n",
        "  maxpooled_forth_block_down = MaxPooling3D()(regression_unet_forth_block_down)\n",
        "\n",
        "  regression_unet_fifth_block_down = Conv3D(filters=1024,kernel_size=3,use_bias=False,padding=\"same\")(maxpooled_forth_block_down)\n",
        "  regression_unet_fifth_block_down = BatchNormalization()(regression_unet_fifth_block_down)\n",
        "  regression_unet_fifth_block_down = ReLU()(regression_unet_fifth_block_down)\n",
        "\n",
        "  regression_unet_fifth_block_down = Conv3D(filters=512,kernel_size=3,use_bias=False,padding=\"same\")(regression_unet_fifth_block_down)\n",
        "  regression_unet_fifth_block_down = BatchNormalization()(regression_unet_fifth_block_down)\n",
        "  regression_unet_fifth_block_down = ReLU()(regression_unet_fifth_block_down)\n",
        "\n",
        "  regression_unet_forth_block_up = UpSampling3D()(regression_unet_fifth_block_down)\n",
        "  regression_unet_forth_block_up = Concatenate(axis=4)([regression_unet_forth_block_up,regression_unet_forth_block_down])\n",
        "  regression_unet_forth_block_up = Conv3D(filters=512,kernel_size=3,use_bias=False,padding=\"same\")(regression_unet_forth_block_up)\n",
        "  regression_unet_forth_block_up = Conv3D(filters=512,kernel_size=3,use_bias=False,padding=\"same\")(regression_unet_forth_block_up)\n",
        "\n",
        "  regression_unet_third_block_up = UpSampling3D()(regression_unet_forth_block_up)\n",
        "  regression_unet_third_block_up = Concatenate(axis=4)([regression_unet_third_block_up,regression_unet_third_block_down])\n",
        "  regression_unet_third_block_up = Conv3D(filters=256,kernel_size=3,use_bias=False,padding=\"same\")(regression_unet_third_block_up)\n",
        "  regression_unet_third_block_up = Conv3D(filters=256,kernel_size=3,use_bias=False,padding=\"same\")(regression_unet_third_block_up)\n",
        "\n",
        "  regression_unet_second_block_up = UpSampling3D()(regression_unet_third_block_up)\n",
        "  regression_unet_second_block_up = Concatenate(axis=4)([regression_unet_second_block_up,regression_unet_second_block_down])\n",
        "  regression_unet_second_block_up = Conv3D(filters=128,kernel_size=3,use_bias=False,padding=\"same\")(regression_unet_second_block_up)\n",
        "  regression_unet_second_block_up = Conv3D(filters=128,kernel_size=3,use_bias=False,padding=\"same\")(regression_unet_second_block_up)\n",
        "\n",
        "  regression_unet_first_block_up = UpSampling3D()(regression_unet_second_block_up)\n",
        "  regression_unet_first_block_up = Concatenate(axis=4)([regression_unet_first_block_up,regression_unet_first_block_down])\n",
        "  regression_unet_first_block_up = Conv3D(filters=64,kernel_size=3,use_bias=False,padding=\"same\")(regression_unet_first_block_up)\n",
        "  regression_unet_first_block_up = Conv3D(filters=64,kernel_size=3,use_bias=False,padding=\"same\")(regression_unet_first_block_up)\n",
        "\n",
        "  regression_unet_out = Conv3D(filters=1,kernel_size=1)(regression_unet_first_block_up)\n",
        "  regression_unet_out = ReLU()(regression_unet_out)\n",
        "\n",
        "  return Model(regression_unet_input,regression_unet_out)"
      ]
    },
    {
      "cell_type": "markdown",
      "metadata": {
        "id": "9Cc8t2OljfEN"
      },
      "source": [
        "# Loss function for the U-net will be smooth L1 loss or you can say that smooth MSE loss."
      ]
    },
    {
      "cell_type": "code",
      "execution_count": null,
      "metadata": {
        "id": "a06MzfSY9NH7"
      },
      "outputs": [],
      "source": [
        "def mse_loss(t2_images_true,t2_images_pred):\n",
        "\n",
        "  mse = tf.reduce_mean(keras.losses.huber_loss(y_true=t2_images_true,y_pred=t2_images_pred))\n",
        "  return mse"
      ]
    },
    {
      "cell_type": "code",
      "execution_count": null,
      "metadata": {
        "id": "yxNRrAlV9u2s"
      },
      "outputs": [],
      "source": [
        "img_translation_optimizer = keras.optimizers.Adam(learning_rate=0.000001)"
      ]
    },
    {
      "cell_type": "code",
      "execution_count": null,
      "metadata": {
        "id": "CdlxXFWY-xEQ"
      },
      "outputs": [],
      "source": [
        "crop_size = (64,64,16)\n",
        "regression_unet = create_regression_unet(input_image_shape=crop_size+(1,))"
      ]
    },
    {
      "cell_type": "code",
      "execution_count": null,
      "metadata": {
        "id": "hcsXSSGA99g0"
      },
      "outputs": [],
      "source": [
        "img_translation_checkpoint_dir = \"/content/drive/MyDrive/img_translation_checkpoints\"\n",
        "checkpoint_prefix = os.path.join(img_translation_checkpoint_dir,\"ckpt\")\n",
        "checkpoint = tf.train.Checkpoint(optimizer=img_translation_optimizer,model=regression_unet)"
      ]
    },
    {
      "cell_type": "code",
      "execution_count": null,
      "metadata": {
        "id": "GViW8xWQ_QHA"
      },
      "outputs": [],
      "source": [
        "@tf.function\n",
        "def train_step(t1_images_batch,t2_images_batch):\n",
        "\n",
        "    with tf.GradientTape() as img_translation_tape:\n",
        "\n",
        "      regression_unet.trainable = True\n",
        "      t2_images_batch_pred = regression_unet(t1_images_batch,training=True)\n",
        "\n",
        "      img_translation_loss = mse_loss(t2_images_true=t2_images_batch,t2_images_pred=t2_images_batch_pred)\n",
        "\n",
        "      img_translation_gradients = img_translation_tape.gradient(img_translation_loss, regression_unet.trainable_variables)\n",
        "      img_translation_optimizer.apply_gradients(zip(img_translation_gradients, regression_unet.trainable_variables))\n",
        "\n",
        "    return t2_images_batch_pred,img_translation_loss"
      ]
    },
    {
      "cell_type": "code",
      "execution_count": null,
      "metadata": {
        "id": "uC60dhLDCasD"
      },
      "outputs": [],
      "source": [
        "@tf.function\n",
        "def cv_step(t1_cv_images_batch,t2_cv_images_batch):\n",
        "\n",
        "  regression_unet.trainable = False\n",
        "\n",
        "  t2_cv_images_batch_pred = regression_unet(t1_cv_images_batch,training=False)\n",
        "\n",
        "  img_translation_cv_loss = mse_loss(t2_images_true=t2_cv_images_batch,t2_images_pred=t2_cv_images_batch_pred)\n",
        "\n",
        "  return t2_cv_images_batch_pred,img_translation_cv_loss"
      ]
    },
    {
      "cell_type": "code",
      "execution_count": null,
      "metadata": {
        "id": "34XEH9unEiHl"
      },
      "outputs": [],
      "source": [
        "epochs = 100\n",
        "train_batch_size = 6\n",
        "cv_batch_size = 6"
      ]
    },
    {
      "cell_type": "code",
      "execution_count": null,
      "metadata": {
        "id": "Lnl8pemE5ZPR"
      },
      "outputs": [],
      "source": [
        "callbacks = keras.callbacks.CallbackList(callbacks=[keras.callbacks.ReduceLROnPlateau(min_lr=0.000000001,verbose=1,patience=3)])"
      ]
    },
    {
      "cell_type": "code",
      "execution_count": null,
      "metadata": {
        "id": "EEee0lqQFGln"
      },
      "outputs": [],
      "source": [
        "def train(epochs):\n",
        "\n",
        "  train_base_path = \"/content/drive/MyDrive/Colab_Notebooks/T1_and_T2_weighted_training_images\"\n",
        "  cv_base_path = \"/content/drive/MyDrive/Colab_Notebooks/T1_and_T2_wieghted_cv_images\"\n",
        "\n",
        "  t1_train_images = os.listdir(os.path.join(train_base_path,\"t1\"))\n",
        "  t2_train_images = os.listdir(os.path.join(train_base_path,\"t2\"))\n",
        "\n",
        "  t1_cv_images = os.listdir(os.path.join(cv_base_path,\"t1\"))\n",
        "  t2_cv_images = os.listdir(os.path.join(cv_base_path,\"t2\"))\n",
        "\n",
        "  cv_datagen = data_generator(base_path=cv_base_path,t1_images=t1_cv_images,t2_images=t2_cv_images,crop_size=crop_size,\n",
        "                              batch_size=cv_batch_size)\n",
        "\n",
        "  train_datagen = data_generator(base_path=train_base_path,t1_images=t1_train_images,t2_images=t2_train_images,\n",
        "                                 crop_size=crop_size,batch_size=train_batch_size)\n",
        "\n",
        "  for epoch in range(epochs):\n",
        "\n",
        "    time_step = 1\n",
        "\n",
        "    for t1_images_batch,t2_images_batch in train_datagen:\n",
        "\n",
        "      t2_images_batch_pred,img_translation_train_loss = train_step(t1_images_batch,t2_images_batch)\n",
        "\n",
        "      if time_step > len(t1_train_images)//train_batch_size:\n",
        "        break\n",
        "\n",
        "      t1_cv_images_batch,t2_cv_images_batch = next(cv_datagen)\n",
        "      t2_cv_images_batch_pred,img_translation_cv_loss = cv_step(t1_cv_images_batch,t2_cv_images_batch)\n",
        "\n",
        "      print(\"Epoch: {} Time Step: {} Training Loss: {} Val Loss: {}\".format(epoch,time_step,img_translation_train_loss,img_translation_cv_loss))\n",
        "\n",
        "      callbacks.on_batch_end(time_step)\n",
        "      time_step = time_step + 1\n"
      ]
    },
    {
      "cell_type": "code",
      "execution_count": null,
      "metadata": {
        "colab": {
          "base_uri": "https://localhost:8080/"
        },
        "id": "Pijs51RbRKDC",
        "outputId": "20a4a68c-c23e-485a-8687-5654d6777059"
      },
      "outputs": [
        {
          "output_type": "stream",
          "name": "stdout",
          "text": [
            "Epoch: 0 Time Step: 1 Training Loss: 0.456447571516037 Val Loss: 0.28982678055763245\n",
            "Epoch: 0 Time Step: 2 Training Loss: 0.4334634244441986 Val Loss: 0.37853503227233887\n",
            "Epoch: 0 Time Step: 3 Training Loss: 0.4023858606815338 Val Loss: 0.3290558159351349\n",
            "Epoch: 1 Time Step: 1 Training Loss: 0.4140314757823944 Val Loss: 0.4035426080226898\n",
            "Epoch: 1 Time Step: 2 Training Loss: 0.3846835196018219 Val Loss: 0.29087895154953003\n",
            "Epoch: 1 Time Step: 3 Training Loss: 0.3285941183567047 Val Loss: 0.31821247935295105\n",
            "Epoch: 2 Time Step: 1 Training Loss: 0.29445603489875793 Val Loss: 0.31820234656333923\n",
            "Epoch: 2 Time Step: 2 Training Loss: 0.3075709044933319 Val Loss: 0.37908709049224854\n",
            "Epoch: 2 Time Step: 3 Training Loss: 0.32869407534599304 Val Loss: 0.2903205454349518\n",
            "Epoch: 3 Time Step: 1 Training Loss: 0.37429818511009216 Val Loss: 0.4036395251750946\n",
            "Epoch: 3 Time Step: 2 Training Loss: 0.4131670892238617 Val Loss: 0.2908101975917816\n",
            "Epoch: 3 Time Step: 3 Training Loss: 0.31546083092689514 Val Loss: 0.3292374312877655\n",
            "Epoch: 4 Time Step: 1 Training Loss: 0.31222960352897644 Val Loss: 0.289967805147171\n",
            "Epoch: 4 Time Step: 2 Training Loss: 0.3204323351383209 Val Loss: 0.37857794761657715\n",
            "Epoch: 4 Time Step: 3 Training Loss: 0.4094679355621338 Val Loss: 0.2905006408691406\n",
            "Epoch: 5 Time Step: 1 Training Loss: 0.32334408164024353 Val Loss: 0.40303412079811096\n",
            "Epoch: 5 Time Step: 2 Training Loss: 0.3119247257709503 Val Loss: 0.3286973834037781\n",
            "Epoch: 5 Time Step: 3 Training Loss: 0.32736262679100037 Val Loss: 0.3174024522304535\n",
            "Epoch: 6 Time Step: 1 Training Loss: 0.3282686471939087 Val Loss: 0.4027272164821625\n",
            "Epoch: 6 Time Step: 2 Training Loss: 0.35286521911621094 Val Loss: 0.28938034176826477\n",
            "Epoch: 6 Time Step: 3 Training Loss: 0.26844701170921326 Val Loss: 0.3777991235256195\n",
            "Epoch: 7 Time Step: 1 Training Loss: 0.3557721674442291 Val Loss: 0.31696999073028564\n",
            "Epoch: 7 Time Step: 2 Training Loss: 0.3108946979045868 Val Loss: 0.3282215893268585\n",
            "Epoch: 7 Time Step: 3 Training Loss: 0.39579343795776367 Val Loss: 0.28960028290748596\n",
            "Epoch: 8 Time Step: 1 Training Loss: 0.27859482169151306 Val Loss: 0.28947022557258606\n",
            "Epoch: 8 Time Step: 2 Training Loss: 0.273742139339447 Val Loss: 0.40209531784057617\n",
            "Epoch: 8 Time Step: 3 Training Loss: 0.30543985962867737 Val Loss: 0.3773268461227417\n",
            "Epoch: 9 Time Step: 1 Training Loss: 0.2581861615180969 Val Loss: 0.3278593122959137\n",
            "Epoch: 9 Time Step: 2 Training Loss: 0.28249433636665344 Val Loss: 0.28877875208854675\n",
            "Epoch: 9 Time Step: 3 Training Loss: 0.26900815963745117 Val Loss: 0.3164867162704468\n",
            "Epoch: 10 Time Step: 1 Training Loss: 0.28475216031074524 Val Loss: 0.2892725169658661\n",
            "Epoch: 10 Time Step: 2 Training Loss: 0.33005815744400024 Val Loss: 0.28870952129364014\n",
            "Epoch: 10 Time Step: 3 Training Loss: 0.2879052460193634 Val Loss: 0.40183043479919434\n",
            "Epoch: 11 Time Step: 1 Training Loss: 0.253540962934494 Val Loss: 0.37710142135620117\n",
            "Epoch: 11 Time Step: 2 Training Loss: 0.29399898648262024 Val Loss: 0.31622210144996643\n",
            "Epoch: 11 Time Step: 3 Training Loss: 0.26458343863487244 Val Loss: 0.3277021646499634\n",
            "Epoch: 12 Time Step: 1 Training Loss: 0.2592810094356537 Val Loss: 0.4015759527683258\n",
            "Epoch: 12 Time Step: 2 Training Loss: 0.259931355714798 Val Loss: 0.3161831200122833\n",
            "Epoch: 12 Time Step: 3 Training Loss: 0.2533407509326935 Val Loss: 0.28855347633361816\n",
            "Epoch: 13 Time Step: 1 Training Loss: 0.22637031972408295 Val Loss: 0.3275885283946991\n",
            "Epoch: 13 Time Step: 2 Training Loss: 0.23491621017456055 Val Loss: 0.3768564760684967\n",
            "Epoch: 13 Time Step: 3 Training Loss: 0.30105817317962646 Val Loss: 0.28894200921058655\n",
            "Epoch: 14 Time Step: 1 Training Loss: 0.30546122789382935 Val Loss: 0.40126124024391174\n",
            "Epoch: 14 Time Step: 2 Training Loss: 0.2644059956073761 Val Loss: 0.2881406247615814\n",
            "Epoch: 14 Time Step: 3 Training Loss: 0.30593475699424744 Val Loss: 0.28854912519454956\n",
            "Epoch: 15 Time Step: 1 Training Loss: 0.30682188272476196 Val Loss: 0.32676205039024353\n",
            "Epoch: 15 Time Step: 2 Training Loss: 0.2503724694252014 Val Loss: 0.37585756182670593\n",
            "Epoch: 15 Time Step: 3 Training Loss: 0.239938423037529 Val Loss: 0.314961314201355\n",
            "Epoch: 16 Time Step: 1 Training Loss: 0.2620193064212799 Val Loss: 0.28734156489372253\n",
            "Epoch: 16 Time Step: 2 Training Loss: 0.24224621057510376 Val Loss: 0.2875882089138031\n",
            "Epoch: 16 Time Step: 3 Training Loss: 0.246661975979805 Val Loss: 0.3995315730571747\n",
            "Epoch: 17 Time Step: 1 Training Loss: 0.2890625596046448 Val Loss: 0.32584941387176514\n",
            "Epoch: 17 Time Step: 2 Training Loss: 0.2219531387090683 Val Loss: 0.31410452723503113\n",
            "Epoch: 17 Time Step: 3 Training Loss: 0.2526109516620636 Val Loss: 0.3746393620967865\n",
            "Epoch: 18 Time Step: 1 Training Loss: 0.24361824989318848 Val Loss: 0.2873278856277466\n",
            "Epoch: 18 Time Step: 2 Training Loss: 0.3067609965801239 Val Loss: 0.32554176449775696\n",
            "Epoch: 18 Time Step: 3 Training Loss: 0.21983258426189423 Val Loss: 0.31391850113868713\n",
            "Epoch: 19 Time Step: 1 Training Loss: 0.2470521181821823 Val Loss: 0.3990493714809418\n",
            "Epoch: 19 Time Step: 2 Training Loss: 0.2865448296070099 Val Loss: 0.3740600049495697\n",
            "Epoch: 19 Time Step: 3 Training Loss: 0.2314109057188034 Val Loss: 0.28613755106925964\n",
            "Epoch: 20 Time Step: 1 Training Loss: 0.24300746619701385 Val Loss: 0.3981703817844391\n",
            "Epoch: 20 Time Step: 2 Training Loss: 0.2736024260520935 Val Loss: 0.3733825981616974\n",
            "Epoch: 20 Time Step: 3 Training Loss: 0.3070925772190094 Val Loss: 0.2855003774166107\n",
            "Epoch: 21 Time Step: 1 Training Loss: 0.2645235061645508 Val Loss: 0.31217160820961\n",
            "Epoch: 21 Time Step: 2 Training Loss: 0.2512352168560028 Val Loss: 0.3237632215023041\n",
            "Epoch: 21 Time Step: 3 Training Loss: 0.24404287338256836 Val Loss: 0.28503015637397766\n",
            "Epoch: 22 Time Step: 1 Training Loss: 0.27036920189857483 Val Loss: 0.2844214141368866\n",
            "Epoch: 22 Time Step: 2 Training Loss: 0.2093101292848587 Val Loss: 0.32358503341674805\n",
            "Epoch: 22 Time Step: 3 Training Loss: 0.24098972976207733 Val Loss: 0.396592378616333\n",
            "Epoch: 23 Time Step: 1 Training Loss: 0.21179760992527008 Val Loss: 0.31203410029411316\n",
            "Epoch: 23 Time Step: 2 Training Loss: 0.2766036093235016 Val Loss: 0.2854286730289459\n",
            "Epoch: 23 Time Step: 3 Training Loss: 0.264417439699173 Val Loss: 0.37210512161254883\n",
            "Epoch: 24 Time Step: 1 Training Loss: 0.237857386469841 Val Loss: 0.2852971851825714\n",
            "Epoch: 24 Time Step: 2 Training Loss: 0.22710545361042023 Val Loss: 0.32343631982803345\n",
            "Epoch: 24 Time Step: 3 Training Loss: 0.27859559655189514 Val Loss: 0.3114147484302521\n",
            "Epoch: 25 Time Step: 1 Training Loss: 0.2692139148712158 Val Loss: 0.39566126465797424\n",
            "Epoch: 25 Time Step: 2 Training Loss: 0.2092374563217163 Val Loss: 0.2839083671569824\n",
            "Epoch: 25 Time Step: 3 Training Loss: 0.22535617649555206 Val Loss: 0.3707159459590912\n",
            "Epoch: 26 Time Step: 1 Training Loss: 0.19131410121917725 Val Loss: 0.3112937808036804\n",
            "Epoch: 26 Time Step: 2 Training Loss: 0.2729015350341797 Val Loss: 0.283784955739975\n",
            "Epoch: 26 Time Step: 3 Training Loss: 0.21902017295360565 Val Loss: 0.32299527525901794\n",
            "Epoch: 27 Time Step: 1 Training Loss: 0.2711510956287384 Val Loss: 0.3953492343425751\n",
            "Epoch: 27 Time Step: 2 Training Loss: 0.23399202525615692 Val Loss: 0.37054821848869324\n",
            "Epoch: 27 Time Step: 3 Training Loss: 0.25585126876831055 Val Loss: 0.2846375107765198\n",
            "Epoch: 28 Time Step: 1 Training Loss: 0.2629816234111786 Val Loss: 0.2845359742641449\n",
            "Epoch: 28 Time Step: 2 Training Loss: 0.22014017403125763 Val Loss: 0.31027230620384216\n",
            "Epoch: 28 Time Step: 3 Training Loss: 0.22107549011707306 Val Loss: 0.394746869802475\n",
            "Epoch: 29 Time Step: 1 Training Loss: 0.2528955638408661 Val Loss: 0.3694491386413574\n",
            "Epoch: 29 Time Step: 2 Training Loss: 0.21086032688617706 Val Loss: 0.32177433371543884\n",
            "Epoch: 29 Time Step: 3 Training Loss: 0.22758857905864716 Val Loss: 0.2825525104999542\n",
            "Epoch: 30 Time Step: 1 Training Loss: 0.21349745988845825 Val Loss: 0.2831842303276062\n",
            "Epoch: 30 Time Step: 2 Training Loss: 0.23935936391353607 Val Loss: 0.3095264434814453\n",
            "Epoch: 30 Time Step: 3 Training Loss: 0.1953771859407425 Val Loss: 0.2826899588108063\n",
            "Epoch: 31 Time Step: 1 Training Loss: 0.23197351396083832 Val Loss: 0.39370664954185486\n",
            "Epoch: 31 Time Step: 2 Training Loss: 0.22019968926906586 Val Loss: 0.3690042495727539\n",
            "Epoch: 31 Time Step: 3 Training Loss: 0.2532745897769928 Val Loss: 0.3210326135158539\n",
            "Epoch: 32 Time Step: 1 Training Loss: 0.20999793708324432 Val Loss: 0.32123053073883057\n",
            "Epoch: 32 Time Step: 2 Training Loss: 0.24358625710010529 Val Loss: 0.2818777561187744\n",
            "Epoch: 32 Time Step: 3 Training Loss: 0.18767452239990234 Val Loss: 0.282958060503006\n",
            "Epoch: 33 Time Step: 1 Training Loss: 0.20731528103351593 Val Loss: 0.3092142641544342\n",
            "Epoch: 33 Time Step: 2 Training Loss: 0.1975356489419937 Val Loss: 0.36899614334106445\n",
            "Epoch: 33 Time Step: 3 Training Loss: 0.20862579345703125 Val Loss: 0.3937614858150482\n",
            "Epoch: 34 Time Step: 1 Training Loss: 0.2047932744026184 Val Loss: 0.3686807155609131\n",
            "Epoch: 34 Time Step: 2 Training Loss: 0.2775912582874298 Val Loss: 0.30829018354415894\n",
            "Epoch: 34 Time Step: 3 Training Loss: 0.20570045709609985 Val Loss: 0.28270044922828674\n",
            "Epoch: 35 Time Step: 1 Training Loss: 0.21107548475265503 Val Loss: 0.28064700961112976\n",
            "Epoch: 35 Time Step: 2 Training Loss: 0.28474581241607666 Val Loss: 0.3194972276687622\n",
            "Epoch: 35 Time Step: 3 Training Loss: 0.24510407447814941 Val Loss: 0.3913569450378418\n",
            "Epoch: 36 Time Step: 1 Training Loss: 0.2712778151035309 Val Loss: 0.3191879093647003\n",
            "Epoch: 36 Time Step: 2 Training Loss: 0.21184580028057098 Val Loss: 0.3660927712917328\n",
            "Epoch: 36 Time Step: 3 Training Loss: 0.2232963591814041 Val Loss: 0.28149375319480896\n",
            "Epoch: 37 Time Step: 1 Training Loss: 0.20524978637695312 Val Loss: 0.28001081943511963\n",
            "Epoch: 37 Time Step: 2 Training Loss: 0.2120344489812851 Val Loss: 0.30657219886779785\n",
            "Epoch: 37 Time Step: 3 Training Loss: 0.19317983090877533 Val Loss: 0.38990911841392517\n",
            "Epoch: 38 Time Step: 1 Training Loss: 0.22498291730880737 Val Loss: 0.3065308630466461\n",
            "Epoch: 38 Time Step: 2 Training Loss: 0.22573889791965485 Val Loss: 0.38957104086875916\n",
            "Epoch: 38 Time Step: 3 Training Loss: 0.20005054771900177 Val Loss: 0.2795405983924866\n",
            "Epoch: 39 Time Step: 1 Training Loss: 0.19025933742523193 Val Loss: 0.3658371865749359\n",
            "Epoch: 39 Time Step: 2 Training Loss: 0.2023175209760666 Val Loss: 0.31976601481437683\n",
            "Epoch: 39 Time Step: 3 Training Loss: 0.19528786838054657 Val Loss: 0.28142449259757996\n",
            "Epoch: 40 Time Step: 1 Training Loss: 0.2036692053079605 Val Loss: 0.281453400850296\n",
            "Epoch: 40 Time Step: 2 Training Loss: 0.269926518201828 Val Loss: 0.3073223829269409\n",
            "Epoch: 40 Time Step: 3 Training Loss: 0.25513413548469543 Val Loss: 0.3189563453197479\n",
            "Epoch: 41 Time Step: 1 Training Loss: 0.22997240722179413 Val Loss: 0.3640516996383667\n",
            "Epoch: 41 Time Step: 2 Training Loss: 0.21581225097179413 Val Loss: 0.2788902819156647\n",
            "Epoch: 41 Time Step: 3 Training Loss: 0.20257633924484253 Val Loss: 0.3879626989364624\n",
            "Epoch: 42 Time Step: 1 Training Loss: 0.2018490582704544 Val Loss: 0.38826003670692444\n",
            "Epoch: 42 Time Step: 2 Training Loss: 0.21714861690998077 Val Loss: 0.3641466796398163\n",
            "Epoch: 42 Time Step: 3 Training Loss: 0.16898715496063232 Val Loss: 0.28034278750419617\n",
            "Epoch: 43 Time Step: 1 Training Loss: 0.19465021789073944 Val Loss: 0.3184644281864166\n",
            "Epoch: 43 Time Step: 2 Training Loss: 0.27556291222572327 Val Loss: 0.2795378863811493\n",
            "Epoch: 43 Time Step: 3 Training Loss: 0.23002290725708008 Val Loss: 0.3053479492664337\n",
            "Epoch: 44 Time Step: 1 Training Loss: 0.2460821121931076 Val Loss: 0.2778299152851105\n",
            "Epoch: 44 Time Step: 2 Training Loss: 0.18523307144641876 Val Loss: 0.31588712334632874\n",
            "Epoch: 44 Time Step: 3 Training Loss: 0.2063055783510208 Val Loss: 0.2777229845523834\n",
            "Epoch: 45 Time Step: 1 Training Loss: 0.22231948375701904 Val Loss: 0.30360960960388184\n",
            "Epoch: 45 Time Step: 2 Training Loss: 0.1970069259405136 Val Loss: 0.38812950253486633\n",
            "Epoch: 45 Time Step: 3 Training Loss: 0.22373990714550018 Val Loss: 0.3631824553012848\n",
            "Epoch: 46 Time Step: 1 Training Loss: 0.23274755477905273 Val Loss: 0.3887450695037842\n",
            "Epoch: 46 Time Step: 2 Training Loss: 0.2118244618177414 Val Loss: 0.2783503532409668\n",
            "Epoch: 46 Time Step: 3 Training Loss: 0.19476662576198578 Val Loss: 0.3043765723705292\n",
            "Epoch: 47 Time Step: 1 Training Loss: 0.19832108914852142 Val Loss: 0.36267510056495667\n",
            "Epoch: 47 Time Step: 2 Training Loss: 0.2390875220298767 Val Loss: 0.2782248556613922\n",
            "Epoch: 47 Time Step: 3 Training Loss: 0.1803281307220459 Val Loss: 0.31658557057380676\n",
            "Epoch: 48 Time Step: 1 Training Loss: 0.17576806247234344 Val Loss: 0.2776414155960083\n",
            "Epoch: 48 Time Step: 2 Training Loss: 0.19131255149841309 Val Loss: 0.38649702072143555\n",
            "Epoch: 48 Time Step: 3 Training Loss: 0.179585799574852 Val Loss: 0.31650838255882263\n",
            "Epoch: 49 Time Step: 1 Training Loss: 0.20606683194637299 Val Loss: 0.3620150089263916\n",
            "Epoch: 49 Time Step: 2 Training Loss: 0.1841084212064743 Val Loss: 0.27728745341300964\n",
            "Epoch: 49 Time Step: 3 Training Loss: 0.19436931610107422 Val Loss: 0.3036098778247833\n",
            "Epoch: 50 Time Step: 1 Training Loss: 0.1724199503660202 Val Loss: 0.3029325306415558\n",
            "Epoch: 50 Time Step: 2 Training Loss: 0.1766735166311264 Val Loss: 0.3612447679042816\n",
            "Epoch: 50 Time Step: 3 Training Loss: 0.22812537848949432 Val Loss: 0.3154510259628296\n",
            "Epoch: 51 Time Step: 1 Training Loss: 0.18685229122638702 Val Loss: 0.38509082794189453\n",
            "Epoch: 51 Time Step: 2 Training Loss: 0.19748049974441528 Val Loss: 0.2764148712158203\n",
            "Epoch: 51 Time Step: 3 Training Loss: 0.21235501766204834 Val Loss: 0.2748893201351166\n",
            "Epoch: 52 Time Step: 1 Training Loss: 0.23759965598583221 Val Loss: 0.356299489736557\n",
            "Epoch: 52 Time Step: 2 Training Loss: 0.21663297712802887 Val Loss: 0.27393031120300293\n",
            "Epoch: 52 Time Step: 3 Training Loss: 0.18863622844219208 Val Loss: 0.31255534291267395\n",
            "Epoch: 53 Time Step: 1 Training Loss: 0.25473272800445557 Val Loss: 0.3824939727783203\n",
            "Epoch: 53 Time Step: 2 Training Loss: 0.21207179129123688 Val Loss: 0.273727685213089\n",
            "Epoch: 53 Time Step: 3 Training Loss: 0.19157470762729645 Val Loss: 0.3000248670578003\n",
            "Epoch: 54 Time Step: 1 Training Loss: 0.19665198028087616 Val Loss: 0.3832487165927887\n",
            "Epoch: 54 Time Step: 2 Training Loss: 0.1845383495092392 Val Loss: 0.27461493015289307\n",
            "Epoch: 54 Time Step: 3 Training Loss: 0.2215380221605301 Val Loss: 0.2756458520889282\n",
            "Epoch: 55 Time Step: 1 Training Loss: 0.24201977252960205 Val Loss: 0.3115209937095642\n",
            "Epoch: 55 Time Step: 2 Training Loss: 0.20791392028331757 Val Loss: 0.35528531670570374\n",
            "Epoch: 55 Time Step: 3 Training Loss: 0.2443174123764038 Val Loss: 0.2964915335178375\n",
            "Epoch: 56 Time Step: 1 Training Loss: 0.20428134500980377 Val Loss: 0.3780909478664398\n",
            "Epoch: 56 Time Step: 2 Training Loss: 0.19830678403377533 Val Loss: 0.2703302502632141\n",
            "Epoch: 56 Time Step: 3 Training Loss: 0.18099279701709747 Val Loss: 0.2737370729446411\n",
            "Epoch: 57 Time Step: 1 Training Loss: 0.2109033614397049 Val Loss: 0.31136462092399597\n",
            "Epoch: 57 Time Step: 2 Training Loss: 0.21957600116729736 Val Loss: 0.2992229461669922\n",
            "Epoch: 57 Time Step: 3 Training Loss: 0.1887146681547165 Val Loss: 0.3575155436992645\n",
            "Epoch: 58 Time Step: 1 Training Loss: 0.20464640855789185 Val Loss: 0.29997900128364563\n",
            "Epoch: 58 Time Step: 2 Training Loss: 0.1884738951921463 Val Loss: 0.3820408880710602\n",
            "Epoch: 58 Time Step: 3 Training Loss: 0.19724707305431366 Val Loss: 0.27427518367767334\n",
            "Epoch: 59 Time Step: 1 Training Loss: 0.25862035155296326 Val Loss: 0.30991822481155396\n",
            "Epoch: 59 Time Step: 2 Training Loss: 0.2082618623971939 Val Loss: 0.27047571539878845\n",
            "Epoch: 59 Time Step: 3 Training Loss: 0.1940043419599533 Val Loss: 0.3515871465206146\n",
            "Epoch: 60 Time Step: 1 Training Loss: 0.20798784494400024 Val Loss: 0.2686345875263214\n",
            "Epoch: 60 Time Step: 2 Training Loss: 0.2615862786769867 Val Loss: 0.3496268689632416\n",
            "Epoch: 60 Time Step: 3 Training Loss: 0.17192482948303223 Val Loss: 0.2927466332912445\n",
            "Epoch: 61 Time Step: 1 Training Loss: 0.1772681027650833 Val Loss: 0.3056640923023224\n",
            "Epoch: 61 Time Step: 2 Training Loss: 0.1711549162864685 Val Loss: 0.2713247835636139\n",
            "Epoch: 61 Time Step: 3 Training Loss: 0.18706782162189484 Val Loss: 0.3760077953338623\n",
            "Epoch: 62 Time Step: 1 Training Loss: 0.16696281731128693 Val Loss: 0.26707330346107483\n",
            "Epoch: 62 Time Step: 2 Training Loss: 0.24806250631809235 Val Loss: 0.3042425513267517\n",
            "Epoch: 62 Time Step: 3 Training Loss: 0.18803603947162628 Val Loss: 0.34688863158226013\n",
            "Epoch: 63 Time Step: 1 Training Loss: 0.19465112686157227 Val Loss: 0.26537859439849854\n",
            "Epoch: 63 Time Step: 2 Training Loss: 0.18627691268920898 Val Loss: 0.3679133355617523\n",
            "Epoch: 63 Time Step: 3 Training Loss: 0.17616379261016846 Val Loss: 0.2891755998134613\n",
            "Epoch: 64 Time Step: 1 Training Loss: 0.22595976293087006 Val Loss: 0.371760755777359\n",
            "Epoch: 64 Time Step: 2 Training Loss: 0.19873438775539398 Val Loss: 0.2649504840373993\n",
            "Epoch: 64 Time Step: 3 Training Loss: 0.17810745537281036 Val Loss: 0.26836395263671875\n",
            "Epoch: 65 Time Step: 1 Training Loss: 0.23309580981731415 Val Loss: 0.28954124450683594\n",
            "Epoch: 65 Time Step: 2 Training Loss: 0.1471037119626999 Val Loss: 0.3443875312805176\n",
            "Epoch: 65 Time Step: 3 Training Loss: 0.1946982592344284 Val Loss: 0.30154815316200256\n",
            "Epoch: 66 Time Step: 1 Training Loss: 0.19714824855327606 Val Loss: 0.34331250190734863\n",
            "Epoch: 66 Time Step: 2 Training Loss: 0.22183318436145782 Val Loss: 0.2620527744293213\n",
            "Epoch: 66 Time Step: 3 Training Loss: 0.23485763370990753 Val Loss: 0.36654147505760193\n",
            "Epoch: 67 Time Step: 1 Training Loss: 0.17681515216827393 Val Loss: 0.262483686208725\n",
            "Epoch: 67 Time Step: 2 Training Loss: 0.19886630773544312 Val Loss: 0.2890045940876007\n",
            "Epoch: 67 Time Step: 3 Training Loss: 0.25779083371162415 Val Loss: 0.302386075258255\n",
            "Epoch: 68 Time Step: 1 Training Loss: 0.22559517621994019 Val Loss: 0.34653398394584656\n",
            "Epoch: 68 Time Step: 2 Training Loss: 0.1979321986436844 Val Loss: 0.30264946818351746\n",
            "Epoch: 68 Time Step: 3 Training Loss: 0.216511532664299 Val Loss: 0.2646632790565491\n",
            "Epoch: 69 Time Step: 1 Training Loss: 0.19178515672683716 Val Loss: 0.260735422372818\n",
            "Epoch: 69 Time Step: 2 Training Loss: 0.17919783294200897 Val Loss: 0.2828497588634491\n",
            "Epoch: 69 Time Step: 3 Training Loss: 0.19039303064346313 Val Loss: 0.3662603795528412\n",
            "Epoch: 70 Time Step: 1 Training Loss: 0.23130743205547333 Val Loss: 0.2668735980987549\n",
            "Epoch: 70 Time Step: 2 Training Loss: 0.20967239141464233 Val Loss: 0.37207040190696716\n",
            "Epoch: 70 Time Step: 3 Training Loss: 0.16972965002059937 Val Loss: 0.2646791338920593\n",
            "Epoch: 71 Time Step: 1 Training Loss: 0.18782250583171844 Val Loss: 0.2901053726673126\n",
            "Epoch: 71 Time Step: 2 Training Loss: 0.22823882102966309 Val Loss: 0.3023003935813904\n",
            "Epoch: 71 Time Step: 3 Training Loss: 0.1726527065038681 Val Loss: 0.3443267345428467\n",
            "Epoch: 72 Time Step: 1 Training Loss: 0.17007088661193848 Val Loss: 0.2621701955795288\n",
            "Epoch: 72 Time Step: 2 Training Loss: 0.239263653755188 Val Loss: 0.28517094254493713\n",
            "Epoch: 72 Time Step: 3 Training Loss: 0.17685963213443756 Val Loss: 0.26336193084716797\n",
            "Epoch: 73 Time Step: 1 Training Loss: 0.21816475689411163 Val Loss: 0.2987664043903351\n",
            "Epoch: 73 Time Step: 2 Training Loss: 0.16856229305267334 Val Loss: 0.34131336212158203\n",
            "Epoch: 73 Time Step: 3 Training Loss: 0.17253714799880981 Val Loss: 0.3675706088542938\n",
            "Epoch: 74 Time Step: 1 Training Loss: 0.18618230521678925 Val Loss: 0.2869216501712799\n",
            "Epoch: 74 Time Step: 2 Training Loss: 0.15709669888019562 Val Loss: 0.36806878447532654\n",
            "Epoch: 74 Time Step: 3 Training Loss: 0.24549423158168793 Val Loss: 0.29841089248657227\n",
            "Epoch: 75 Time Step: 1 Training Loss: 0.17671309411525726 Val Loss: 0.25923529267311096\n",
            "Epoch: 75 Time Step: 2 Training Loss: 0.17199623584747314 Val Loss: 0.2614023983478546\n",
            "Epoch: 75 Time Step: 3 Training Loss: 0.2011287808418274 Val Loss: 0.3373669683933258\n",
            "Epoch: 76 Time Step: 1 Training Loss: 0.16894133388996124 Val Loss: 0.2581477463245392\n",
            "Epoch: 76 Time Step: 2 Training Loss: 0.23055875301361084 Val Loss: 0.28068122267723083\n",
            "Epoch: 76 Time Step: 3 Training Loss: 0.24127431213855743 Val Loss: 0.2945651113986969\n",
            "Epoch: 77 Time Step: 1 Training Loss: 0.17542755603790283 Val Loss: 0.3315785825252533\n",
            "Epoch: 77 Time Step: 2 Training Loss: 0.17429934442043304 Val Loss: 0.3585856854915619\n",
            "Epoch: 77 Time Step: 3 Training Loss: 0.16757337749004364 Val Loss: 0.25581297278404236\n",
            "Epoch: 78 Time Step: 1 Training Loss: 0.20557387173175812 Val Loss: 0.29157736897468567\n",
            "Epoch: 78 Time Step: 2 Training Loss: 0.18606726825237274 Val Loss: 0.3566727638244629\n",
            "Epoch: 78 Time Step: 3 Training Loss: 0.22519885003566742 Val Loss: 0.3287796378135681\n",
            "Epoch: 79 Time Step: 1 Training Loss: 0.18813927471637726 Val Loss: 0.25163379311561584\n",
            "Epoch: 79 Time Step: 2 Training Loss: 0.17989914119243622 Val Loss: 0.2521730363368988\n",
            "Epoch: 79 Time Step: 3 Training Loss: 0.17649966478347778 Val Loss: 0.2754368782043457\n",
            "Epoch: 80 Time Step: 1 Training Loss: 0.18361401557922363 Val Loss: 0.2903462052345276\n",
            "Epoch: 80 Time Step: 2 Training Loss: 0.20149767398834229 Val Loss: 0.3548060655593872\n",
            "Epoch: 80 Time Step: 3 Training Loss: 0.16867081820964813 Val Loss: 0.25334200263023376\n",
            "Epoch: 81 Time Step: 1 Training Loss: 0.18047304451465607 Val Loss: 0.25328925251960754\n",
            "Epoch: 81 Time Step: 2 Training Loss: 0.24326474964618683 Val Loss: 0.32403528690338135\n",
            "Epoch: 81 Time Step: 3 Training Loss: 0.17707820236682892 Val Loss: 0.26862484216690063\n",
            "Epoch: 82 Time Step: 1 Training Loss: 0.22442328929901123 Val Loss: 0.344189316034317\n",
            "Epoch: 82 Time Step: 2 Training Loss: 0.19667117297649384 Val Loss: 0.24552364647388458\n",
            "Epoch: 82 Time Step: 3 Training Loss: 0.16103772819042206 Val Loss: 0.31684964895248413\n",
            "Epoch: 83 Time Step: 1 Training Loss: 0.17038875818252563 Val Loss: 0.2842628061771393\n",
            "Epoch: 83 Time Step: 2 Training Loss: 0.19494938850402832 Val Loss: 0.2711152136325836\n",
            "Epoch: 83 Time Step: 3 Training Loss: 0.24661731719970703 Val Loss: 0.24900102615356445\n",
            "Epoch: 84 Time Step: 1 Training Loss: 0.22307544946670532 Val Loss: 0.268739253282547\n",
            "Epoch: 84 Time Step: 2 Training Loss: 0.21527759730815887 Val Loss: 0.2411799430847168\n",
            "Epoch: 84 Time Step: 3 Training Loss: 0.1709468811750412 Val Loss: 0.31079617142677307\n",
            "Epoch: 85 Time Step: 1 Training Loss: 0.19082798063755035 Val Loss: 0.3401244580745697\n",
            "Epoch: 85 Time Step: 2 Training Loss: 0.16992349922657013 Val Loss: 0.24604833126068115\n",
            "Epoch: 85 Time Step: 3 Training Loss: 0.16768606007099152 Val Loss: 0.2845032513141632\n",
            "Epoch: 86 Time Step: 1 Training Loss: 0.1640220731496811 Val Loss: 0.33001986145973206\n",
            "Epoch: 86 Time Step: 2 Training Loss: 0.1908435821533203 Val Loss: 0.25265026092529297\n",
            "Epoch: 86 Time Step: 3 Training Loss: 0.1692880392074585 Val Loss: 0.2896920144557953\n",
            "Epoch: 87 Time Step: 1 Training Loss: 0.19486139714717865 Val Loss: 0.2663921117782593\n",
            "Epoch: 87 Time Step: 2 Training Loss: 0.22383208572864532 Val Loss: 0.23711197078227997\n",
            "Epoch: 87 Time Step: 3 Training Loss: 0.1926596611738205 Val Loss: 0.33321598172187805\n",
            "Epoch: 88 Time Step: 1 Training Loss: 0.2133050560951233 Val Loss: 0.23552542924880981\n",
            "Epoch: 88 Time Step: 2 Training Loss: 0.20522524416446686 Val Loss: 0.2526543438434601\n",
            "Epoch: 88 Time Step: 3 Training Loss: 0.17503829300403595 Val Loss: 0.2750896215438843\n",
            "Epoch: 89 Time Step: 1 Training Loss: 0.1800173968076706 Val Loss: 0.24279463291168213\n",
            "Epoch: 89 Time Step: 2 Training Loss: 0.16610711812973022 Val Loss: 0.3211328089237213\n",
            "Epoch: 89 Time Step: 3 Training Loss: 0.18839222192764282 Val Loss: 0.34680458903312683\n",
            "Epoch: 90 Time Step: 1 Training Loss: 0.16256974637508392 Val Loss: 0.27045121788978577\n",
            "Epoch: 90 Time Step: 2 Training Loss: 0.18625956773757935 Val Loss: 0.34279322624206543\n",
            "Epoch: 90 Time Step: 3 Training Loss: 0.18877123296260834 Val Loss: 0.24637095630168915\n",
            "Epoch: 91 Time Step: 1 Training Loss: 0.1879226714372635 Val Loss: 0.23680530488491058\n",
            "Epoch: 91 Time Step: 2 Training Loss: 0.15200228989124298 Val Loss: 0.3076532185077667\n",
            "Epoch: 91 Time Step: 3 Training Loss: 0.16759996116161346 Val Loss: 0.27198484539985657\n",
            "Epoch: 92 Time Step: 1 Training Loss: 0.1914929896593094 Val Loss: 0.27567538619041443\n",
            "Epoch: 92 Time Step: 2 Training Loss: 0.14342284202575684 Val Loss: 0.3120281398296356\n",
            "Epoch: 92 Time Step: 3 Training Loss: 0.1890413761138916 Val Loss: 0.33650660514831543\n",
            "Epoch: 93 Time Step: 1 Training Loss: 0.1865483969449997 Val Loss: 0.2399194985628128\n",
            "Epoch: 93 Time Step: 2 Training Loss: 0.2209717035293579 Val Loss: 0.23443488776683807\n",
            "Epoch: 93 Time Step: 3 Training Loss: 0.16647475957870483 Val Loss: 0.2599491775035858\n",
            "Epoch: 94 Time Step: 1 Training Loss: 0.1588478535413742 Val Loss: 0.2677999436855316\n",
            "Epoch: 94 Time Step: 2 Training Loss: 0.1620757132768631 Val Loss: 0.3019244074821472\n",
            "Epoch: 94 Time Step: 3 Training Loss: 0.1781138926744461 Val Loss: 0.23013795912265778\n",
            "Epoch: 95 Time Step: 1 Training Loss: 0.16949284076690674 Val Loss: 0.32088375091552734\n",
            "Epoch: 95 Time Step: 2 Training Loss: 0.1787232905626297 Val Loss: 0.2555781900882721\n",
            "Epoch: 95 Time Step: 3 Training Loss: 0.1967587023973465 Val Loss: 0.2291090041399002\n",
            "Epoch: 96 Time Step: 1 Training Loss: 0.16492287814617157 Val Loss: 0.24950897693634033\n",
            "Epoch: 96 Time Step: 2 Training Loss: 0.16165724396705627 Val Loss: 0.23672737181186676\n",
            "Epoch: 96 Time Step: 3 Training Loss: 0.23967570066452026 Val Loss: 0.22590310871601105\n",
            "Epoch: 97 Time Step: 1 Training Loss: 0.19036106765270233 Val Loss: 0.31690892577171326\n",
            "Epoch: 97 Time Step: 2 Training Loss: 0.17181570827960968 Val Loss: 0.2635782063007355\n",
            "Epoch: 97 Time Step: 3 Training Loss: 0.17058806121349335 Val Loss: 0.29325297474861145\n",
            "Epoch: 98 Time Step: 1 Training Loss: 0.1815667301416397 Val Loss: 0.22315038740634918\n",
            "Epoch: 98 Time Step: 2 Training Loss: 0.20306700468063354 Val Loss: 0.26139843463897705\n",
            "Epoch: 98 Time Step: 3 Training Loss: 0.18310880661010742 Val Loss: 0.2900989353656769\n",
            "Epoch: 99 Time Step: 1 Training Loss: 0.21137936413288116 Val Loss: 0.21768349409103394\n",
            "Epoch: 99 Time Step: 2 Training Loss: 0.21386569738388062 Val Loss: 0.2373998910188675\n",
            "Epoch: 99 Time Step: 3 Training Loss: 0.18287253379821777 Val Loss: 0.31334224343299866\n"
          ]
        }
      ],
      "source": [
        "train(epochs)"
      ]
    },
    {
      "cell_type": "markdown",
      "metadata": {
        "id": "lQIdUA2Ej5bO"
      },
      "source": [
        "# After training is over, lt's try to visualize the translated output of the network for a random cropped cross validation T1 weighted image."
      ]
    },
    {
      "cell_type": "code",
      "execution_count": null,
      "metadata": {
        "id": "VpbRUzJVRqzE"
      },
      "outputs": [],
      "source": [
        "test_base_path = \"/content/drive/MyDrive/Colab_Notebooks/T1_and_T2_wieghted_test_images\"\n",
        "t1_test_images = os.listdir(os.path.join(test_base_path,\"t1\"))\n",
        "t2_test_images = os.listdir(os.path.join(test_base_path,\"t2\"))\n",
        "\n",
        "test_datagen = data_generator(base_path=test_base_path,t1_images=t1_test_images,t2_images=t2_test_images,\n",
        "                              crop_size=crop_size,batch_size=3)"
      ]
    },
    {
      "cell_type": "code",
      "execution_count": null,
      "metadata": {
        "id": "rSE6kLi0Dx4j"
      },
      "outputs": [],
      "source": [
        "t1_test_images_batch,t2_test_images_batch = next(test_datagen)"
      ]
    },
    {
      "cell_type": "code",
      "execution_count": null,
      "metadata": {
        "id": "HlcFDfbYSICN"
      },
      "outputs": [],
      "source": [
        "t2_test_images_batch_pred = regression_unet(t1_test_images_batch,training=False)"
      ]
    },
    {
      "cell_type": "code",
      "execution_count": null,
      "metadata": {
        "id": "qGJqKuc8myJ_"
      },
      "outputs": [],
      "source": [
        "t2_test_images_batch_pred = t2_test_images_batch_pred.numpy()"
      ]
    },
    {
      "cell_type": "code",
      "execution_count": null,
      "metadata": {
        "id": "b0896YC4m5JT"
      },
      "outputs": [],
      "source": [
        "t2_test_single_image = t2_test_images_batch_pred[0].reshape(64,64,16)"
      ]
    },
    {
      "cell_type": "markdown",
      "metadata": {
        "id": "Fsa7604mkYbc"
      },
      "source": [
        "# Below is the translated synthetic version of random cropped T1 weighted image from Cross Validation data (Synthetic T2 weighted cropped image) generated by the network."
      ]
    },
    {
      "cell_type": "code",
      "execution_count": null,
      "metadata": {
        "colab": {
          "base_uri": "https://localhost:8080/",
          "height": 467
        },
        "id": "XG49I8k-nKUM",
        "outputId": "820f5fb1-cbb9-4905-ea35-eca1d6dea93f"
      },
      "outputs": [
        {
          "output_type": "stream",
          "name": "stderr",
          "text": [
            "WARNING:matplotlib.image:Clipping input data to the valid range for imshow with RGB data ([0..1] for floats or [0..255] for integers).\n"
          ]
        },
        {
          "output_type": "execute_result",
          "data": {
            "text/plain": [
              "<matplotlib.image.AxesImage at 0x7f74f0768160>"
            ]
          },
          "metadata": {},
          "execution_count": 30
        },
        {
          "output_type": "display_data",
          "data": {
            "text/plain": [
              "<Figure size 640x480 with 1 Axes>"
            ],
            "image/png": "[encoded data removed]"
          },
          "metadata": {}
        }
      ],
      "source": [
        "plt.imshow(t2_test_single_image[:,:,13:16])"
      ]
    },
    {
      "cell_type": "code",
      "execution_count": null,
      "metadata": {
        "id": "LyROmPS3nSKg"
      },
      "outputs": [],
      "source": [
        "t2_test_single_image = t2_test_images_batch[0].reshape(64,64,16)"
      ]
    },
    {
      "cell_type": "markdown",
      "metadata": {
        "id": "A8WgEW3zkxxs"
      },
      "source": [
        "# Below is the actual T2 weighted cropped image from the cross validation data. As, it can be observed that our network has become successful in generating synthetic translated images similar to actual T2 weighted cropped images."
      ]
    },
    {
      "cell_type": "code",
      "execution_count": null,
      "metadata": {
        "colab": {
          "base_uri": "https://localhost:8080/",
          "height": 467
        },
        "id": "JTL6ZTEqntgv",
        "outputId": "430bcb9c-064d-49d2-a005-f91c9fc7b4cd"
      },
      "outputs": [
        {
          "output_type": "stream",
          "name": "stderr",
          "text": [
            "WARNING:matplotlib.image:Clipping input data to the valid range for imshow with RGB data ([0..1] for floats or [0..255] for integers).\n"
          ]
        },
        {
          "output_type": "execute_result",
          "data": {
            "text/plain": [
              "<matplotlib.image.AxesImage at 0x7f74dc24cac0>"
            ]
          },
          "metadata": {},
          "execution_count": 32
        },
        {
          "output_type": "display_data",
          "data": {
            "text/plain": [
              "<Figure size 640x480 with 1 Axes>"
            ],
            "image/png": "[encoded data removed]"
          },
          "metadata": {}
        }
      ],
      "source": [
        "plt.imshow(t2_test_single_image[:,:,13:16])"
      ]
    },
    {
      "cell_type": "code",
      "execution_count": null,
      "metadata": {
        "id": "DJHy2LO-n6EF"
      },
      "outputs": [],
      "source": []
    }
  ],
  "metadata": {
    "colab": {
      "provenance": [],
      "gpuType": "T4"
    },
    "kernelspec": {
      "display_name": "Python 3",
      "name": "python3"
    },
    "language_info": {
      "codemirror_mode": {
        "name": "ipython",
        "version": 3
      },
      "file_extension": ".py",
      "mimetype": "text/x-python",
      "name": "python",
      "nbconvert_exporter": "python",
      "pygments_lexer": "ipython3",
      "version": "3.9.7"
    },
    "accelerator": "GPU"
  },
  "nbformat": 4,
  "nbformat_minor": 0
}